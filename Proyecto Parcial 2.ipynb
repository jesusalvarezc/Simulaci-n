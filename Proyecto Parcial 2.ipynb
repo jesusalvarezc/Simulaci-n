{
 "cells": [
  {
   "cell_type": "markdown",
   "metadata": {},
   "source": [
    "![](https://upload.wikimedia.org/wikipedia/commons/thumb/e/ea/Logo-ITESO-Principal-60V.png/250px-Logo-ITESO-Principal-60V.png)"
   ]
  },
  {
   "cell_type": "markdown",
   "metadata": {},
   "source": [
    "## <CENTER><font color=\"BLUE\">**INTEGRANTES**</font>\n",
    "    \n",
    "**<center> María Luisa Alvarado López if 715373**\n",
    "\n",
    "**<center>Jesús Álvarez Castellanos if714552**\n",
    "\n",
    "**<center>Javier Alejandro Zamora Gomez  if714329**\n",
    "    \n",
    "## <CENTER><font color=\"BLUE\">**MAESTRA**</font>\n",
    "    \n",
    "**<center> Adriana de Guadalupe García Padilla**    \n",
    "    "
   ]
  },
  {
   "cell_type": "markdown",
   "metadata": {},
   "source": [
    "# <center><font color=\"blue\"> Proyecto Programación lineal</font>"
   ]
  },
  {
   "cell_type": "markdown",
   "metadata": {},
   "source": [
    "## <center><font color=\"green\">\"SIMULADOR DE RENDIMIENTOS POR (CAPITALIZACIÓN CONTINUA) INTERÉS COMPUESTO\"</font>\n",
    "\n",
    "Con base a los conocimientos aprendidos de la materia de simulación matemática se creará un código en el que a partir de diferentes tipos de inversión se pueda obtener los rendimientos que se tendrían en caso de que fuerán capitalizables continuamente, esto nos arrojara los datos necesarios para llegar a la conclusión de cual opción nos generara un beneficio mayor neto.\n",
    "\n",
    "# <font color=\"purple\">**Objetivos**</font>\n",
    "\n",
    "- El proyecto tiene como propósito demostrar nuestros conocimientos adquiridos durante el parcial además de ser un tema de interés pues ambos integrantes estudiamos la carrera de Ing.Financiera.\n",
    "\n",
    "- **Objetivo General**\n",
    "\n",
    "    Obtener el mejor metodo de inverción de acuerdo a los beneficios netos que éste arroje.\n",
    "\n",
    "- **Objetivos específicos**\n",
    "\n",
    "     Primero se analizarán los datos que se tienen de cada una de las posibilidades de inversión para posteriormente      crear nuestro código con todos los requerimientos que nos dará como resultado una simulación de los beneficios        netos de estas opciones de inversión. \n",
    "     \n",
    "\n",
    "\n",
    "\n"
   ]
  },
  {
   "cell_type": "markdown",
   "metadata": {},
   "source": [
    "Una persona está buscando el mejor método de inversión que tenga a su alcance, pero se encuentra con el problema de que cada una de las opciones ofrecen diferentes tasas con diferentes periodos de capitalizacón por lo que se encuentra confundio y no sabe cual de estas es la mejor, acude a nosotros mostrandonos la siguiente tabla:\n",
    "\n",
    "Opcion de Inversión|Rendimiento|Periodos de Capitalización\n",
    "-- | --\n",
    "Cuenta Bancaria A| 6.14%|semestral\n",
    "Cuenta Bancaria B| 4.2%|mensual\n",
    "Cuenta Bancaria C|8.5%|anual\n",
    "\n",
    "En el caso de la Cuenta Bancaria A son 2 meses, en la B es un mes y por último en la Cuenta Bancaria C son 12 meses.\n",
    "\n"
   ]
  },
  {
   "cell_type": "markdown",
   "metadata": {},
   "source": [
    "<font color=\"blue\">*Modelo que representa el problema*</font>\n",
    "\n",
    "Partiendo de la teoria de capitalización continua tenemos que la formula para obtener el el rendimiento con una tasa continua es:\n",
    "\n",
    "$$VF=Ae^{Rcn}$$\n",
    "\n",
    "Por lo que de está formula podemos obtener las equivalencia entre las tasas de capitalización continua y periodica:\n",
    "\n",
    "$$R_{c}=m*ln(1+\\frac{Rm}{m})$$\n",
    "\n",
    "Ecuación diferencial de capitalización continua de intereses\n",
    "\n",
    "$$\\frac{d C(t)}{dt}=r\\; C(t),$$\n",
    "\n",
    "Donde:\n",
    "$R_{c}=$ Tasa continua\n",
    "\n",
    "$R_{m}=$ Tasa periodica\n",
    "\n",
    "$m=$ Tiempo de capitalizacón en años\n",
    "\n",
    "$A=$ Capital\n",
    "\n",
    "$VF=$ Valor futuro\n",
    "\n",
    "$P=$ Pago total a amortizar\n",
    "\n",
    "$r=$ tasa de interés instantánea\n",
    "\n",
    "$C(t)=$ capital inicial"
   ]
  },
  {
   "cell_type": "markdown",
   "metadata": {},
   "source": [
    "#### <font color=\"orange\">**SOLUCIÓN:**</font>"
   ]
  },
  {
   "cell_type": "code",
   "execution_count": 2,
   "metadata": {},
   "outputs": [],
   "source": [
    "import matplotlib.pyplot as plt\n",
    "%matplotlib inline\n",
    "import numpy as np\n",
    "import pandas as pd"
   ]
  },
  {
   "cell_type": "markdown",
   "metadata": {},
   "source": [
    "# Cuenta Bancaria A"
   ]
  },
  {
   "cell_type": "code",
   "execution_count": 3,
   "metadata": {},
   "outputs": [
    {
     "data": {
      "text/plain": [
       "0.060933522562357005"
      ]
     },
     "execution_count": 3,
     "metadata": {},
     "output_type": "execute_result"
    }
   ],
   "source": [
    "R_m=6.14\n",
    "m=4\n",
    "R_c =m*np.log(1+R_m/m/100)\n",
    "R_cp=R_c*100\n",
    "R_c"
   ]
  },
  {
   "cell_type": "code",
   "execution_count": 4,
   "metadata": {},
   "outputs": [
    {
     "data": {
      "text/plain": [
       "array([500000, 515467, 531414, 547853, 564801])"
      ]
     },
     "execution_count": 4,
     "metadata": {},
     "output_type": "execute_result"
    }
   ],
   "source": [
    "A=500000\n",
    "t=np.arange(m+1)\n",
    "Y=np.arange(m+1)\n",
    "for i in t:\n",
    "    Y[i]=A*np.exp(R_c*i/2)\n",
    "    \n",
    "Y\n"
   ]
  },
  {
   "cell_type": "markdown",
   "metadata": {},
   "source": [
    "# Cuenta Bancaria B"
   ]
  },
  {
   "cell_type": "code",
   "execution_count": 5,
   "metadata": {},
   "outputs": [
    {
     "data": {
      "text/plain": [
       "4.1963292818803275"
      ]
     },
     "execution_count": 5,
     "metadata": {},
     "output_type": "execute_result"
    }
   ],
   "source": [
    "R_m2=4.2\n",
    "m2=24\n",
    "R_c2 =m2*np.log(1+R_m2/m2/100)\n",
    "R_cp2=R_c2*100\n",
    "R_cp2"
   ]
  },
  {
   "cell_type": "code",
   "execution_count": 6,
   "metadata": {},
   "outputs": [
    {
     "data": {
      "text/plain": [
       "array([500000, 501751, 503509, 505273, 507043, 508819, 510601, 512390,\n",
       "       514185, 515986, 517794, 519607, 521428, 523254, 525087, 526927,\n",
       "       528772, 530625, 532484, 534349, 536221, 538099, 539984, 541876,\n",
       "       543774])"
      ]
     },
     "execution_count": 6,
     "metadata": {},
     "output_type": "execute_result"
    }
   ],
   "source": [
    "A=500000\n",
    "t2=np.arange(m2+1)\n",
    "Y_2=np.arange(m2+1)\n",
    "for i in t2:\n",
    "    Y_2[i]=A*np.exp(R_c2*i/12)\n",
    "    \n",
    "Y_2"
   ]
  },
  {
   "cell_type": "markdown",
   "metadata": {},
   "source": [
    "# Cuenta Bancaria C"
   ]
  },
  {
   "cell_type": "code",
   "execution_count": 7,
   "metadata": {},
   "outputs": [
    {
     "data": {
      "text/plain": [
       "8.32433493816389"
      ]
     },
     "execution_count": 7,
     "metadata": {},
     "output_type": "execute_result"
    }
   ],
   "source": [
    "R_m3=8.5\n",
    "m3=2\n",
    "R_c3 =m3*np.log(1+R_m3/m3/100)\n",
    "R_cp3=R_c3*100\n",
    "R_cp3"
   ]
  },
  {
   "cell_type": "code",
   "execution_count": 8,
   "metadata": {},
   "outputs": [
    {
     "data": {
      "text/plain": [
       "array([500000, 543403, 590573])"
      ]
     },
     "execution_count": 8,
     "metadata": {},
     "output_type": "execute_result"
    }
   ],
   "source": [
    "A=500000\n",
    "t3=np.arange(m3+1)\n",
    "Y_3=np.arange(m3+1)\n",
    "for i in t3:\n",
    "    Y_3[i]=A*np.exp(R_c3*i)\n",
    "    \n",
    "Y_3"
   ]
  },
  {
   "cell_type": "code",
   "execution_count": 10,
   "metadata": {},
   "outputs": [
    {
     "data": {
      "text/plain": [
       "<matplotlib.legend.Legend at 0x1a1713e2e8>"
      ]
     },
     "execution_count": 10,
     "metadata": {},
     "output_type": "execute_result"
    },
    {
     "data": {
      "image/png": "[encoded data removed]",
      "text/plain": [
       "<Figure size 432x288 with 1 Axes>"
      ]
     },
     "metadata": {},
     "output_type": "display_data"
    }
   ],
   "source": [
    "plt.plot(t*6,Y,'o-', lw=2, label='Bancaria A')\n",
    "\n",
    "plt.plot(t2,Y_2,'o-', lw=2, label='Bancaria B')\n",
    "\n",
    "plt.plot(t3*12,Y_3, 'o-', lw=2, label=\"Bancaria C\")\n",
    "\n",
    "plt.xlabel('Tiempo')\n",
    "plt.ylabel('Intereses')\n",
    "plt.title('Interés Compuesto', fontsize = 16)\n",
    "plt.legend(loc='best')"
   ]
  },
  {
   "cell_type": "code",
   "execution_count": null,
   "metadata": {},
   "outputs": [],
   "source": []
  },
  {
   "cell_type": "code",
   "execution_count": null,
   "metadata": {},
   "outputs": [],
   "source": []
  },
  {
   "cell_type": "code",
   "execution_count": null,
   "metadata": {},
   "outputs": [],
   "source": []
  },
  {
   "cell_type": "code",
   "execution_count": null,
   "metadata": {},
   "outputs": [],
   "source": []
  },
  {
   "cell_type": "code",
   "execution_count": null,
   "metadata": {},
   "outputs": [],
   "source": []
  },
  {
   "cell_type": "code",
   "execution_count": null,
   "metadata": {},
   "outputs": [],
   "source": []
  },
  {
   "cell_type": "markdown",
   "metadata": {},
   "source": [
    "#### <font color=\"ORANGE\">**CONLUSIÓN:**</font>"
   ]
  },
  {
   "cell_type": "markdown",
   "metadata": {},
   "source": [
    "- Con la resolcuión del porblema anterior mediante el modelo deprogramación lineal, la inversión que maximizará las ganancias es la combinación siguiente:\n",
    "\n",
    "-$ 100,000 en Bonos de Tesoreria\n",
    "\n",
    "-$ 62,500 en la Cuenta Bancaria A\n",
    "\n",
    "-$ 87,500 en el Fondo de Inversión (Selec)."
   ]
  },
  {
   "cell_type": "code",
   "execution_count": null,
   "metadata": {},
   "outputs": [],
   "source": []
  },
  {
   "cell_type": "code",
   "execution_count": null,
   "metadata": {},
   "outputs": [],
   "source": []
  }
 ],
 "metadata": {
  "kernelspec": {
   "display_name": "Python 3",
   "language": "python",
   "name": "python3"
  },
  "language_info": {
   "codemirror_mode": {
    "name": "ipython",
    "version": 3
   },
   "file_extension": ".py",
   "mimetype": "text/x-python",
   "name": "python",
   "nbconvert_exporter": "python",
   "pygments_lexer": "ipython3",
   "version": "3.7.1"
  }
 },
 "nbformat": 4,
 "nbformat_minor": 2
}
